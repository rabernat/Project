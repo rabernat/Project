{
 "cells": [
  {
   "cell_type": "markdown",
   "metadata": {},
   "source": [
    "# First- Set-up\n",
    "1. Load all packages \n",
    "2. Load data with pandas"
   ]
  },
  {
   "cell_type": "code",
   "execution_count": 1,
   "metadata": {},
   "outputs": [],
   "source": [
    "import numpy as np\n",
    "import matplotlib.pyplot as plt\n",
    "import pandas as pd\n",
    "%matplotlib inline"
   ]
  },
  {
   "cell_type": "code",
   "execution_count": 2,
   "metadata": {},
   "outputs": [
    {
     "name": "stdout",
     "output_type": "stream",
     "text": [
      "<class 'pandas.core.frame.DataFrame'>\n",
      "RangeIndex: 7380 entries, 0 to 7379\n",
      "Data columns (total 6 columns):\n",
      "time         7380 non-null int64\n",
      "reference    7380 non-null float64\n",
      "T F out      7380 non-null float64\n",
      "T C in       7380 non-null float64\n",
      "T F in       7380 non-null float64\n",
      "T C out      7380 non-null float64\n",
      "dtypes: float64(5), int64(1)\n",
      "memory usage: 346.0 KB\n"
     ]
    }
   ],
   "source": [
    "df=pd.read_csv('computing_c.csv')\n",
    "df.info()"
   ]
  },
  {
   "cell_type": "code",
   "execution_count": 3,
   "metadata": {},
   "outputs": [
    {
     "data": {
      "text/html": [
       "<div>\n",
       "<style scoped>\n",
       "    .dataframe tbody tr th:only-of-type {\n",
       "        vertical-align: middle;\n",
       "    }\n",
       "\n",
       "    .dataframe tbody tr th {\n",
       "        vertical-align: top;\n",
       "    }\n",
       "\n",
       "    .dataframe thead th {\n",
       "        text-align: right;\n",
       "    }\n",
       "</style>\n",
       "<table border=\"1\" class=\"dataframe\">\n",
       "  <thead>\n",
       "    <tr style=\"text-align: right;\">\n",
       "      <th></th>\n",
       "      <th>time</th>\n",
       "      <th>reference</th>\n",
       "      <th>T F out</th>\n",
       "      <th>T C in</th>\n",
       "      <th>T F in</th>\n",
       "      <th>T C out</th>\n",
       "    </tr>\n",
       "  </thead>\n",
       "  <tbody>\n",
       "    <tr>\n",
       "      <th>0</th>\n",
       "      <td>3619676122</td>\n",
       "      <td>296.395542</td>\n",
       "      <td>41.517243</td>\n",
       "      <td>18.983001</td>\n",
       "      <td>41.575029</td>\n",
       "      <td>19.238459</td>\n",
       "    </tr>\n",
       "    <tr>\n",
       "      <th>1</th>\n",
       "      <td>3619676122</td>\n",
       "      <td>296.388247</td>\n",
       "      <td>41.567831</td>\n",
       "      <td>18.897041</td>\n",
       "      <td>41.394464</td>\n",
       "      <td>19.231113</td>\n",
       "    </tr>\n",
       "    <tr>\n",
       "      <th>2</th>\n",
       "      <td>3619676123</td>\n",
       "      <td>296.395542</td>\n",
       "      <td>41.575029</td>\n",
       "      <td>19.002654</td>\n",
       "      <td>41.652072</td>\n",
       "      <td>19.317050</td>\n",
       "    </tr>\n",
       "    <tr>\n",
       "      <th>3</th>\n",
       "      <td>3619676123</td>\n",
       "      <td>296.388247</td>\n",
       "      <td>41.452256</td>\n",
       "      <td>18.936349</td>\n",
       "      <td>41.548570</td>\n",
       "      <td>19.270410</td>\n",
       "    </tr>\n",
       "    <tr>\n",
       "      <th>4</th>\n",
       "      <td>3619676124</td>\n",
       "      <td>296.388247</td>\n",
       "      <td>41.336670</td>\n",
       "      <td>18.877387</td>\n",
       "      <td>41.471519</td>\n",
       "      <td>19.348999</td>\n",
       "    </tr>\n",
       "  </tbody>\n",
       "</table>\n",
       "</div>"
      ],
      "text/plain": [
       "         time   reference    T F out     T C in     T F in    T C out\n",
       "0  3619676122  296.395542  41.517243  18.983001  41.575029  19.238459\n",
       "1  3619676122  296.388247  41.567831  18.897041  41.394464  19.231113\n",
       "2  3619676123  296.395542  41.575029  19.002654  41.652072  19.317050\n",
       "3  3619676123  296.388247  41.452256  18.936349  41.548570  19.270410\n",
       "4  3619676124  296.388247  41.336670  18.877387  41.471519  19.348999"
      ]
     },
     "execution_count": 3,
     "metadata": {},
     "output_type": "execute_result"
    }
   ],
   "source": [
    "df.head()"
   ]
  },
  {
   "cell_type": "code",
   "execution_count": 4,
   "metadata": {},
   "outputs": [
    {
     "name": "stdout",
     "output_type": "stream",
     "text": [
      "<class 'pandas.core.frame.DataFrame'>\n",
      "RangeIndex: 7904 entries, 0 to 7903\n",
      "Data columns (total 6 columns):\n",
      "time         7904 non-null int64\n",
      "reference    7904 non-null float64\n",
      "T F out      7904 non-null float64\n",
      "T C in       7904 non-null float64\n",
      "T F in       7904 non-null float64\n",
      "T C out      7904 non-null float64\n",
      "dtypes: float64(5), int64(1)\n",
      "memory usage: 370.6 KB\n"
     ]
    }
   ],
   "source": [
    "df3=pd.read_csv('computing_i.csv')\n",
    "df3.info()"
   ]
  },
  {
   "cell_type": "code",
   "execution_count": 5,
   "metadata": {},
   "outputs": [
    {
     "data": {
      "text/html": [
       "<div>\n",
       "<style scoped>\n",
       "    .dataframe tbody tr th:only-of-type {\n",
       "        vertical-align: middle;\n",
       "    }\n",
       "\n",
       "    .dataframe tbody tr th {\n",
       "        vertical-align: top;\n",
       "    }\n",
       "\n",
       "    .dataframe thead th {\n",
       "        text-align: right;\n",
       "    }\n",
       "</style>\n",
       "<table border=\"1\" class=\"dataframe\">\n",
       "  <thead>\n",
       "    <tr style=\"text-align: right;\">\n",
       "      <th></th>\n",
       "      <th>time</th>\n",
       "      <th>reference</th>\n",
       "      <th>T F out</th>\n",
       "      <th>T C in</th>\n",
       "      <th>T F in</th>\n",
       "      <th>T C out</th>\n",
       "    </tr>\n",
       "  </thead>\n",
       "  <tbody>\n",
       "    <tr>\n",
       "      <th>0</th>\n",
       "      <td>3627490750</td>\n",
       "      <td>298.591174</td>\n",
       "      <td>39.793629</td>\n",
       "      <td>41.066134</td>\n",
       "      <td>40.584289</td>\n",
       "      <td>40.179385</td>\n",
       "    </tr>\n",
       "    <tr>\n",
       "      <th>1</th>\n",
       "      <td>3627490750</td>\n",
       "      <td>298.583879</td>\n",
       "      <td>39.921436</td>\n",
       "      <td>41.386462</td>\n",
       "      <td>40.615627</td>\n",
       "      <td>40.075737</td>\n",
       "    </tr>\n",
       "    <tr>\n",
       "      <th>2</th>\n",
       "      <td>3627490751</td>\n",
       "      <td>298.591174</td>\n",
       "      <td>39.967235</td>\n",
       "      <td>41.181747</td>\n",
       "      <td>40.680674</td>\n",
       "      <td>40.044385</td>\n",
       "    </tr>\n",
       "    <tr>\n",
       "      <th>3</th>\n",
       "      <td>3627490751</td>\n",
       "      <td>298.583879</td>\n",
       "      <td>39.902147</td>\n",
       "      <td>41.405727</td>\n",
       "      <td>40.654181</td>\n",
       "      <td>40.152880</td>\n",
       "    </tr>\n",
       "    <tr>\n",
       "      <th>4</th>\n",
       "      <td>3627490752</td>\n",
       "      <td>298.591174</td>\n",
       "      <td>40.044385</td>\n",
       "      <td>41.008323</td>\n",
       "      <td>40.738502</td>\n",
       "      <td>40.140815</td>\n",
       "    </tr>\n",
       "  </tbody>\n",
       "</table>\n",
       "</div>"
      ],
      "text/plain": [
       "         time   reference    T F out     T C in     T F in    T C out\n",
       "0  3627490750  298.591174  39.793629  41.066134  40.584289  40.179385\n",
       "1  3627490750  298.583879  39.921436  41.386462  40.615627  40.075737\n",
       "2  3627490751  298.591174  39.967235  41.181747  40.680674  40.044385\n",
       "3  3627490751  298.583879  39.902147  41.405727  40.654181  40.152880\n",
       "4  3627490752  298.591174  40.044385  41.008323  40.738502  40.140815"
      ]
     },
     "execution_count": 5,
     "metadata": {},
     "output_type": "execute_result"
    }
   ],
   "source": [
    "df3.head()"
   ]
  },
  {
   "cell_type": "code",
   "execution_count": 6,
   "metadata": {},
   "outputs": [
    {
     "name": "stdout",
     "output_type": "stream",
     "text": [
      "<class 'pandas.core.frame.DataFrame'>\n",
      "RangeIndex: 2 entries, 0 to 1\n",
      "Data columns (total 3 columns):\n",
      "Operation                 2 non-null object\n",
      "Ammonia Flux (mol/m2h)    2 non-null float64\n",
      "Water Flux (kg/m2h)       2 non-null float64\n",
      "dtypes: float64(2), object(1)\n",
      "memory usage: 128.0+ bytes\n"
     ]
    }
   ],
   "source": [
    "df4=pd.read_csv('computing_fluxes.csv')\n",
    "df4.info()"
   ]
  },
  {
   "cell_type": "code",
   "execution_count": 7,
   "metadata": {},
   "outputs": [
    {
     "data": {
      "text/html": [
       "<div>\n",
       "<style scoped>\n",
       "    .dataframe tbody tr th:only-of-type {\n",
       "        vertical-align: middle;\n",
       "    }\n",
       "\n",
       "    .dataframe tbody tr th {\n",
       "        vertical-align: top;\n",
       "    }\n",
       "\n",
       "    .dataframe thead th {\n",
       "        text-align: right;\n",
       "    }\n",
       "</style>\n",
       "<table border=\"1\" class=\"dataframe\">\n",
       "  <thead>\n",
       "    <tr style=\"text-align: right;\">\n",
       "      <th></th>\n",
       "      <th>Operation</th>\n",
       "      <th>Ammonia Flux (mol/m2h)</th>\n",
       "      <th>Water Flux (kg/m2h)</th>\n",
       "    </tr>\n",
       "  </thead>\n",
       "  <tbody>\n",
       "    <tr>\n",
       "      <th>0</th>\n",
       "      <td>CMD</td>\n",
       "      <td>13.51</td>\n",
       "      <td>8.950</td>\n",
       "    </tr>\n",
       "    <tr>\n",
       "      <th>1</th>\n",
       "      <td>IMD</td>\n",
       "      <td>13.92</td>\n",
       "      <td>-0.802</td>\n",
       "    </tr>\n",
       "  </tbody>\n",
       "</table>\n",
       "</div>"
      ],
      "text/plain": [
       "  Operation  Ammonia Flux (mol/m2h)  Water Flux (kg/m2h)\n",
       "0       CMD                   13.51                8.950\n",
       "1       IMD                   13.92               -0.802"
      ]
     },
     "execution_count": 7,
     "metadata": {},
     "output_type": "execute_result"
    }
   ],
   "source": [
    "df4"
   ]
  },
  {
   "cell_type": "code",
   "execution_count": 8,
   "metadata": {},
   "outputs": [],
   "source": [
    "df4=df4.set_index('Operation')"
   ]
  },
  {
   "cell_type": "code",
   "execution_count": 9,
   "metadata": {},
   "outputs": [
    {
     "data": {
      "text/html": [
       "<div>\n",
       "<style scoped>\n",
       "    .dataframe tbody tr th:only-of-type {\n",
       "        vertical-align: middle;\n",
       "    }\n",
       "\n",
       "    .dataframe tbody tr th {\n",
       "        vertical-align: top;\n",
       "    }\n",
       "\n",
       "    .dataframe thead th {\n",
       "        text-align: right;\n",
       "    }\n",
       "</style>\n",
       "<table border=\"1\" class=\"dataframe\">\n",
       "  <thead>\n",
       "    <tr style=\"text-align: right;\">\n",
       "      <th></th>\n",
       "      <th>Ammonia Flux (mol/m2h)</th>\n",
       "      <th>Water Flux (kg/m2h)</th>\n",
       "    </tr>\n",
       "    <tr>\n",
       "      <th>Operation</th>\n",
       "      <th></th>\n",
       "      <th></th>\n",
       "    </tr>\n",
       "  </thead>\n",
       "  <tbody>\n",
       "    <tr>\n",
       "      <th>CMD</th>\n",
       "      <td>13.51</td>\n",
       "      <td>8.950</td>\n",
       "    </tr>\n",
       "    <tr>\n",
       "      <th>IMD</th>\n",
       "      <td>13.92</td>\n",
       "      <td>-0.802</td>\n",
       "    </tr>\n",
       "  </tbody>\n",
       "</table>\n",
       "</div>"
      ],
      "text/plain": [
       "           Ammonia Flux (mol/m2h)  Water Flux (kg/m2h)\n",
       "Operation                                             \n",
       "CMD                         13.51                8.950\n",
       "IMD                         13.92               -0.802"
      ]
     },
     "execution_count": 9,
     "metadata": {},
     "output_type": "execute_result"
    }
   ],
   "source": [
    "df4"
   ]
  },
  {
   "cell_type": "code",
   "execution_count": 10,
   "metadata": {},
   "outputs": [
    {
     "name": "stdout",
     "output_type": "stream",
     "text": [
      "<class 'pandas.core.frame.DataFrame'>\n",
      "RangeIndex: 6 entries, 0 to 5\n",
      "Data columns (total 2 columns):\n",
      "characteristic    6 non-null object\n",
      "value             6 non-null float64\n",
      "dtypes: float64(1), object(1)\n",
      "memory usage: 176.0+ bytes\n"
     ]
    }
   ],
   "source": [
    "df5=pd.read_csv('computing_characteristic.csv')\n",
    "df5.info()"
   ]
  },
  {
   "cell_type": "code",
   "execution_count": 11,
   "metadata": {},
   "outputs": [
    {
     "data": {
      "text/html": [
       "<div>\n",
       "<style scoped>\n",
       "    .dataframe tbody tr th:only-of-type {\n",
       "        vertical-align: middle;\n",
       "    }\n",
       "\n",
       "    .dataframe tbody tr th {\n",
       "        vertical-align: top;\n",
       "    }\n",
       "\n",
       "    .dataframe thead th {\n",
       "        text-align: right;\n",
       "    }\n",
       "</style>\n",
       "<table border=\"1\" class=\"dataframe\">\n",
       "  <thead>\n",
       "    <tr style=\"text-align: right;\">\n",
       "      <th></th>\n",
       "      <th>characteristic</th>\n",
       "      <th>value</th>\n",
       "    </tr>\n",
       "  </thead>\n",
       "  <tbody>\n",
       "    <tr>\n",
       "      <th>0</th>\n",
       "      <td>ks (W/(mK))</td>\n",
       "      <td>0.160</td>\n",
       "    </tr>\n",
       "    <tr>\n",
       "      <th>1</th>\n",
       "      <td>kg (W/(mK))</td>\n",
       "      <td>0.027</td>\n",
       "    </tr>\n",
       "    <tr>\n",
       "      <th>2</th>\n",
       "      <td>pososity</td>\n",
       "      <td>0.800</td>\n",
       "    </tr>\n",
       "    <tr>\n",
       "      <th>3</th>\n",
       "      <td>membrane thickness (um)</td>\n",
       "      <td>110.000</td>\n",
       "    </tr>\n",
       "    <tr>\n",
       "      <th>4</th>\n",
       "      <td>h_h (W/(m2K))</td>\n",
       "      <td>3546.000</td>\n",
       "    </tr>\n",
       "    <tr>\n",
       "      <th>5</th>\n",
       "      <td>h_c (W/(m2K))</td>\n",
       "      <td>934.000</td>\n",
       "    </tr>\n",
       "  </tbody>\n",
       "</table>\n",
       "</div>"
      ],
      "text/plain": [
       "            characteristic     value\n",
       "0              ks (W/(mK))     0.160\n",
       "1              kg (W/(mK))     0.027\n",
       "2                pososity      0.800\n",
       "3  membrane thickness (um)   110.000\n",
       "4            h_h (W/(m2K))  3546.000\n",
       "5            h_c (W/(m2K))   934.000"
      ]
     },
     "execution_count": 11,
     "metadata": {},
     "output_type": "execute_result"
    }
   ],
   "source": [
    "df5"
   ]
  },
  {
   "cell_type": "markdown",
   "metadata": {},
   "source": [
    "## Project Goal"
   ]
  },
  {
   "cell_type": "markdown",
   "metadata": {},
   "source": [
    "Determine interfacial temperatures resulting from conductive and convective heat transfer under operation of conventional membrane distillation, CMD, and the novel technique titled isothermal membrane distillation, IMD. CMD is operation of membrane distillation where the feed stream is heated and the collector steam is cooled. This technique was developed for desalination purposes. In membrane distillation, the difference in vapor pressure between two streams, feed and collector, drives permeation. Thus, for purposes of desalination, salt water in the feed stream was heated to encourage high vapor pressure of water and the collector stream was cooled to lower vapor pressure of water- the result is a driving force for water permeation. However, the research conducted in my lab aims to utilize membrane distillation for recovering ammonia from urine. Therefore, for our purposes, we desire high ammonia flux (thus need a difference in ammonia vapor pressure to drive permeation) with minimal water flux (water flux would dilute the collected ammonia product). The idea of IMD is to maintain equal bulk temperatures of feed and collector to minimize driving force for water flux (vapor pressure is dependent on temperature and concentration, where the concentration of water is essentially equal in feed and collector), while still driving ammonia flux (through an ammonia concentration gradient between feed and collector). Experimentally, we achieved desired performance for IMD, but in order to better understand the transport of components we want to understand the temperature polorization in IMD as compared to CMD. Temperature polarization refers to temperatures of the bulk and interface of each stream being different due to heat transfer across the membrane. Often, temperature polarization results in a decrease in performance, thus it is desired to minimize this phenomena.\n",
    "**Hypothesis:** The temperature differential imposed in CMD results in additional convective and conductive heat transfer, which results in signficiant temperature polarization as compared to the novel IMD approach. "
   ]
  },
  {
   "cell_type": "markdown",
   "metadata": {},
   "source": [
    "**Step 1**, I demonstrate the flux of ammonia and water for both operations. Note that for the purposes of ammonia recovery, high ammonia flux with minimized ammonia flux is desired. The fluxes demonstrate performances for both techniques and will also be utilized in determining convective heat transport across the membrane (discussed later). This first step leads to Figure 1. "
   ]
  },
  {
   "cell_type": "markdown",
   "metadata": {},
   "source": [
    "**Step 2** is plotting the experimental temperature profiles for both operations. This data will be used to estimate the mean temperature of the bulk feed and bulk collector temperatures in CMD and IMD, which will be used for calculation of convective heat transport and temperature polarization. This step leads to Figures 2 and 3. "
   ]
  },
  {
   "cell_type": "markdown",
   "metadata": {},
   "source": [
    "**Step 3** is the determination of convective heat transport. Convective heat transport is the result of phase change energies required to vaporize ammonia and water, transport them across the membrane, then condense the components in the other stream. This step leads to Figure 4. "
   ]
  },
  {
   "cell_type": "markdown",
   "metadata": {},
   "source": [
    "**Step 4** is the determination of interfacial temperatures at the feed and collector sides of the membrane (for both operations) resulting from temperature polarization. This leads to Figure 5. "
   ]
  },
  {
   "cell_type": "markdown",
   "metadata": {},
   "source": [
    "**Step 5** is the determination of conductive heat transport for both operations. This leads to Figure 6. "
   ]
  },
  {
   "cell_type": "markdown",
   "metadata": {},
   "source": [
    "**Step 6** is the determination of the actual driving force for vapor permeation based on the interfacial temperatures compared to driving force as predicted by bulk temperatures. This leads to figure 7. "
   ]
  },
  {
   "cell_type": "markdown",
   "metadata": {},
   "source": [
    "# Step 1- CMD and IMD Fluxes\n",
    "**Plot ammonia and water flux for both operations- for figure 1**"
   ]
  },
  {
   "cell_type": "code",
   "execution_count": 12,
   "metadata": {},
   "outputs": [
    {
     "data": {
      "text/plain": [
       "(-1, 20)"
      ]
     },
     "execution_count": 12,
     "metadata": {},
     "output_type": "execute_result"
    },
    {
     "data": {
      "image/png": "[encoded data removed]",
      "text/plain": [
       "<Figure size 432x288 with 1 Axes>"
      ]
     },
     "metadata": {
      "needs_background": "light"
     },
     "output_type": "display_data"
    }
   ],
   "source": [
    "ax=df4.plot(kind='bar')\n",
    "ax.set_ylabel('Flux')\n",
    "ax.legend(loc=9)\n",
    "ax.set_ylim((-1,20))"
   ]
  },
  {
   "cell_type": "markdown",
   "metadata": {},
   "source": [
    "**Figure 1.** This plot demonstrates the flux of ammonia and water under both operations, CMD and IMD. It can be seen that ammonia fluxes are quite similar under both operations, while water flux is greatly suppressed under operation of IMD or Isothermal membrane distillation, as opposed to the conventional case, CMD. For this reason, IMD operation is more selective in terms of ammonia transport. Also, the lower water flux will result in lessened convective heat transfer to support water phase changes as we will see later."
   ]
  },
  {
   "cell_type": "markdown",
   "metadata": {},
   "source": [
    "# Step 2- Experimental Temperature Profiles "
   ]
  },
  {
   "cell_type": "markdown",
   "metadata": {},
   "source": [
    "Change time to an actual time value"
   ]
  },
  {
   "cell_type": "code",
   "execution_count": 13,
   "metadata": {},
   "outputs": [
    {
     "data": {
      "text/html": [
       "<div>\n",
       "<style scoped>\n",
       "    .dataframe tbody tr th:only-of-type {\n",
       "        vertical-align: middle;\n",
       "    }\n",
       "\n",
       "    .dataframe tbody tr th {\n",
       "        vertical-align: top;\n",
       "    }\n",
       "\n",
       "    .dataframe thead th {\n",
       "        text-align: right;\n",
       "    }\n",
       "</style>\n",
       "<table border=\"1\" class=\"dataframe\">\n",
       "  <thead>\n",
       "    <tr style=\"text-align: right;\">\n",
       "      <th></th>\n",
       "      <th>time</th>\n",
       "      <th>reference</th>\n",
       "      <th>T F out</th>\n",
       "      <th>T C in</th>\n",
       "      <th>T F in</th>\n",
       "      <th>T C out</th>\n",
       "    </tr>\n",
       "  </thead>\n",
       "  <tbody>\n",
       "    <tr>\n",
       "      <th>0</th>\n",
       "      <td>00:00:00</td>\n",
       "      <td>298.591174</td>\n",
       "      <td>39.793629</td>\n",
       "      <td>41.066134</td>\n",
       "      <td>40.584289</td>\n",
       "      <td>40.179385</td>\n",
       "    </tr>\n",
       "    <tr>\n",
       "      <th>1</th>\n",
       "      <td>00:00:00</td>\n",
       "      <td>298.583879</td>\n",
       "      <td>39.921436</td>\n",
       "      <td>41.386462</td>\n",
       "      <td>40.615627</td>\n",
       "      <td>40.075737</td>\n",
       "    </tr>\n",
       "    <tr>\n",
       "      <th>2</th>\n",
       "      <td>00:00:01</td>\n",
       "      <td>298.591174</td>\n",
       "      <td>39.967235</td>\n",
       "      <td>41.181747</td>\n",
       "      <td>40.680674</td>\n",
       "      <td>40.044385</td>\n",
       "    </tr>\n",
       "    <tr>\n",
       "      <th>3</th>\n",
       "      <td>00:00:01</td>\n",
       "      <td>298.583879</td>\n",
       "      <td>39.902147</td>\n",
       "      <td>41.405727</td>\n",
       "      <td>40.654181</td>\n",
       "      <td>40.152880</td>\n",
       "    </tr>\n",
       "    <tr>\n",
       "      <th>4</th>\n",
       "      <td>00:00:02</td>\n",
       "      <td>298.591174</td>\n",
       "      <td>40.044385</td>\n",
       "      <td>41.008323</td>\n",
       "      <td>40.738502</td>\n",
       "      <td>40.140815</td>\n",
       "    </tr>\n",
       "  </tbody>\n",
       "</table>\n",
       "</div>"
      ],
      "text/plain": [
       "      time   reference    T F out     T C in     T F in    T C out\n",
       "0 00:00:00  298.591174  39.793629  41.066134  40.584289  40.179385\n",
       "1 00:00:00  298.583879  39.921436  41.386462  40.615627  40.075737\n",
       "2 00:00:01  298.591174  39.967235  41.181747  40.680674  40.044385\n",
       "3 00:00:01  298.583879  39.902147  41.405727  40.654181  40.152880\n",
       "4 00:00:02  298.591174  40.044385  41.008323  40.738502  40.140815"
      ]
     },
     "execution_count": 13,
     "metadata": {},
     "output_type": "execute_result"
    }
   ],
   "source": [
    "df3.time=df3.time-df3.time[0]\n",
    "df3.time=pd.to_timedelta(df3.time,unit='seconds')\n",
    "df3.head()"
   ]
  },
  {
   "cell_type": "code",
   "execution_count": 14,
   "metadata": {},
   "outputs": [
    {
     "data": {
      "text/html": [
       "<div>\n",
       "<style scoped>\n",
       "    .dataframe tbody tr th:only-of-type {\n",
       "        vertical-align: middle;\n",
       "    }\n",
       "\n",
       "    .dataframe tbody tr th {\n",
       "        vertical-align: top;\n",
       "    }\n",
       "\n",
       "    .dataframe thead th {\n",
       "        text-align: right;\n",
       "    }\n",
       "</style>\n",
       "<table border=\"1\" class=\"dataframe\">\n",
       "  <thead>\n",
       "    <tr style=\"text-align: right;\">\n",
       "      <th></th>\n",
       "      <th>time</th>\n",
       "      <th>reference</th>\n",
       "      <th>T F out</th>\n",
       "      <th>T C in</th>\n",
       "      <th>T F in</th>\n",
       "      <th>T C out</th>\n",
       "    </tr>\n",
       "  </thead>\n",
       "  <tbody>\n",
       "    <tr>\n",
       "      <th>0</th>\n",
       "      <td>00:00:00</td>\n",
       "      <td>296.395542</td>\n",
       "      <td>41.517243</td>\n",
       "      <td>18.983001</td>\n",
       "      <td>41.575029</td>\n",
       "      <td>19.238459</td>\n",
       "    </tr>\n",
       "    <tr>\n",
       "      <th>1</th>\n",
       "      <td>00:00:00</td>\n",
       "      <td>296.388247</td>\n",
       "      <td>41.567831</td>\n",
       "      <td>18.897041</td>\n",
       "      <td>41.394464</td>\n",
       "      <td>19.231113</td>\n",
       "    </tr>\n",
       "    <tr>\n",
       "      <th>2</th>\n",
       "      <td>00:00:01</td>\n",
       "      <td>296.395542</td>\n",
       "      <td>41.575029</td>\n",
       "      <td>19.002654</td>\n",
       "      <td>41.652072</td>\n",
       "      <td>19.317050</td>\n",
       "    </tr>\n",
       "    <tr>\n",
       "      <th>3</th>\n",
       "      <td>00:00:01</td>\n",
       "      <td>296.388247</td>\n",
       "      <td>41.452256</td>\n",
       "      <td>18.936349</td>\n",
       "      <td>41.548570</td>\n",
       "      <td>19.270410</td>\n",
       "    </tr>\n",
       "    <tr>\n",
       "      <th>4</th>\n",
       "      <td>00:00:02</td>\n",
       "      <td>296.388247</td>\n",
       "      <td>41.336670</td>\n",
       "      <td>18.877387</td>\n",
       "      <td>41.471519</td>\n",
       "      <td>19.348999</td>\n",
       "    </tr>\n",
       "  </tbody>\n",
       "</table>\n",
       "</div>"
      ],
      "text/plain": [
       "      time   reference    T F out     T C in     T F in    T C out\n",
       "0 00:00:00  296.395542  41.517243  18.983001  41.575029  19.238459\n",
       "1 00:00:00  296.388247  41.567831  18.897041  41.394464  19.231113\n",
       "2 00:00:01  296.395542  41.575029  19.002654  41.652072  19.317050\n",
       "3 00:00:01  296.388247  41.452256  18.936349  41.548570  19.270410\n",
       "4 00:00:02  296.388247  41.336670  18.877387  41.471519  19.348999"
      ]
     },
     "execution_count": 14,
     "metadata": {},
     "output_type": "execute_result"
    }
   ],
   "source": [
    "df.time=df.time-df.time[0]\n",
    "df.time=pd.to_timedelta(df.time,unit='seconds')\n",
    "df.head()"
   ]
  },
  {
   "cell_type": "markdown",
   "metadata": {},
   "source": [
    "**Plot temp. profile for feed and collector for both operations- for fig 2 and 3**"
   ]
  },
  {
   "cell_type": "code",
   "execution_count": 15,
   "metadata": {},
   "outputs": [
    {
     "data": {
      "text/plain": [
       "Text(0.5, 0, 'Time (sec.)')"
      ]
     },
     "execution_count": 15,
     "metadata": {},
     "output_type": "execute_result"
    },
    {
     "data": {
      "image/png": "[encoded data removed]",
      "text/plain": [
       "<Figure size 432x288 with 1 Axes>"
      ]
     },
     "metadata": {
      "needs_background": "light"
     },
     "output_type": "display_data"
    }
   ],
   "source": [
    "#CMD bulk temperature profile- feed inlet and outlet temperatures are near 40 deg C, which is the goal temperature of operation, while the inlet and outlet collector temperatures are near 20. In CMD operation, a temperature differential between the feed and collector exists. \n",
    "(df['T F out'][0:1000]).plot(x='time')\n",
    "(df['T F in'][0:1000]).plot(x='time')\n",
    "(df['T C out'][0:1000]).plot(x='time')\n",
    "(df['T C in'][0:1000]).plot(x='time')\n",
    "plt.legend()\n",
    "plt.ylabel(r'T ($^oC$)')\n",
    "plt.xlabel('Time (sec.)')"
   ]
  },
  {
   "cell_type": "markdown",
   "metadata": {},
   "source": [
    "**Figure 2.** This plot demonstrates the bulk temperature profile for CMD operation. 'T F' is the bulk temperature of the feed and 'T C' is the bulk temperature of the collector. The \"in\" and \"out\" refer to temperatures taken at the inlet and outlet locations on either side of the membrane cell. It is experimentally difficult to measure temperatures within the membrane cell, so inlet and outlet temperatures in the tubing feeding the cell were measured via thermocouples. \n",
    "For CMD oepration, it can be seen that there is an imposed temperature differential between the feed and collector. We aim for 40 deg. C and 20 deg C., but experimentally it is difficult to achieve these temperatures exactly. Therefore, this plot demonstrates the temperature profile over time. "
   ]
  },
  {
   "cell_type": "code",
   "execution_count": 16,
   "metadata": {},
   "outputs": [
    {
     "data": {
      "text/plain": [
       "Text(0.5, 0, 'Time (sec.)')"
      ]
     },
     "execution_count": 16,
     "metadata": {},
     "output_type": "execute_result"
    },
    {
     "data": {
      "image/png": "[encoded data removed]",
      "text/plain": [
       "<Figure size 432x288 with 1 Axes>"
      ]
     },
     "metadata": {
      "needs_background": "light"
     },
     "output_type": "display_data"
    }
   ],
   "source": [
    "#IMD bulk temperature profile- feed and collector bulk temperatures are around 40 deg C, which is the goal operation temperature\n",
    "(df3['T F out'][0:1000]).plot(x='time')\n",
    "(df3['T F in'][0:1000]).plot(x='time')\n",
    "(df3['T C out'][0:1000]).plot(x='time')\n",
    "(df3['T C in'][0:1000]).plot(x='time')\n",
    "plt.legend()\n",
    "plt.ylabel(r'T ($^oC$)')\n",
    "plt.xlabel('Time (sec.)')"
   ]
  },
  {
   "cell_type": "markdown",
   "metadata": {},
   "source": [
    "**Figure 3.** This plot demonstrates the bulk temperature profile for IMD operation. Similarly to Fig. 2, the bulk feed and collector temperatures at the inlet and outlet of the membrane cell was measured over the duration of the experiment. It can be seen for IMD operation that both collector and feed temperatures are about the same (note that the y-axis of this plot is over a significantly lower range than in Fig. 2). The temperatures we aimed for were 40 deg. C for both the bulk feed and bulk collector temperatures. Again, experimentally this is a bit difficult. "
   ]
  },
  {
   "cell_type": "markdown",
   "metadata": {},
   "source": [
    "# Step 3- Determination of Convective Heat Transfer"
   ]
  },
  {
   "cell_type": "markdown",
   "metadata": {},
   "source": [
    "**Next Step** Calculate average temperature for feed and collector for both operations. The average is taken over time and between the inlet and outlet temperatures. These average temperatures will be used in the calculation of enthalpy of vaporization (required for convective heat transfer calculation). "
   ]
  },
  {
   "cell_type": "code",
   "execution_count": 17,
   "metadata": {},
   "outputs": [
    {
     "data": {
      "text/plain": [
       "41.53627445155826"
      ]
     },
     "execution_count": 17,
     "metadata": {},
     "output_type": "execute_result"
    }
   ],
   "source": [
    "#Mean of Temperature of the Feed for CMD\n",
    "d= df.describe()\n",
    "T_bulk_feed_CMD_mean=np.mean([d.loc['mean','T F out'],d.loc['mean','T F in']])\n",
    "T_b_f_c=T_bulk_feed_CMD_mean\n",
    "T_b_f_c"
   ]
  },
  {
   "cell_type": "code",
   "execution_count": 18,
   "metadata": {},
   "outputs": [
    {
     "data": {
      "text/plain": [
       "19.154347859823847"
      ]
     },
     "execution_count": 18,
     "metadata": {},
     "output_type": "execute_result"
    }
   ],
   "source": [
    "#Similarly Mean of Temperature of the Collector for CMD\n",
    "T_bulk_collector_CMD_mean=np.mean([d.loc['mean','T C out'],d.loc['mean','T C in']])\n",
    "T_b_c_c=T_bulk_collector_CMD_mean\n",
    "T_b_c_c"
   ]
  },
  {
   "cell_type": "code",
   "execution_count": 19,
   "metadata": {},
   "outputs": [
    {
     "data": {
      "text/plain": [
       "40.360440022963054"
      ]
     },
     "execution_count": 19,
     "metadata": {},
     "output_type": "execute_result"
    }
   ],
   "source": [
    "#Mean of Temperature of the Feed for IMD\n",
    "d3=df3.describe()\n",
    "T_bulk_feed_IMD_mean=np.mean([d3.loc['mean','T F out'],d3.loc['mean','T F in']])\n",
    "T_b_f_i=T_bulk_feed_IMD_mean\n",
    "T_b_f_i"
   ]
  },
  {
   "cell_type": "code",
   "execution_count": 20,
   "metadata": {},
   "outputs": [
    {
     "data": {
      "text/plain": [
       "40.53054612297571"
      ]
     },
     "execution_count": 20,
     "metadata": {},
     "output_type": "execute_result"
    }
   ],
   "source": [
    "#Similarly, the mean of Temperature of the Collector for IMD\n",
    "T_bulk_collector_IMD_mean=np.mean([d3.loc['mean','T C out'],d3.loc['mean','T C in']])\n",
    "T_b_c_i=T_bulk_collector_IMD_mean\n",
    "T_b_c_i"
   ]
  },
  {
   "cell_type": "markdown",
   "metadata": {},
   "source": [
    "**Next Step** estimate convective heat transfer based on bulk temperatures. First for ammonia. we calculate saturated vapor and liquid enthalpies for both CMD and IMD. Enthalpy of vaporization is the difference between saturated vapor and saturated liquid enthalpy. "
   ]
  },
  {
   "cell_type": "code",
   "execution_count": 21,
   "metadata": {},
   "outputs": [
    {
     "data": {
      "text/plain": [
       "379.5045585352134"
      ]
     },
     "execution_count": 21,
     "metadata": {},
     "output_type": "execute_result"
    }
   ],
   "source": [
    "#estimate enthalpy of vaporization of ammonia based on empirical measurements on NIST- closest data we have is at 40 deg. C and 42 deg. C, so we interpolate to find estimates at the temperatures of the bulk feed\n",
    "#specific enthalpy units in kJ/kg\n",
    "Sat_liq_T_40= 371.9\n",
    "Sat_liq_T_42= 381.8\n",
    "Sat_vap_T_40= 1473.3\n",
    "Sat_vap_T_42= 1473.8\n",
    "#interpolate the specific enthalpy of sat-liquid and sat-vapor at the temperature of the CMD and IMD feeds\n",
    "#start with sat-liquid for CMD case\n",
    "#make a interpolator function to help us\n",
    "def interp(y1,y2,x1,x2,T):\n",
    "    return y1+(y2-y1)/(x2-x1)*(T-x1)\n",
    "Sat_liq_CMD=interp(Sat_liq_T_42,Sat_liq_T_40,42,40,T_b_f_c)\n",
    "Sat_liq_CMD"
   ]
  },
  {
   "cell_type": "code",
   "execution_count": 22,
   "metadata": {},
   "outputs": [
    {
     "data": {
      "text/plain": [
       "1473.6840686128896"
      ]
     },
     "execution_count": 22,
     "metadata": {},
     "output_type": "execute_result"
    }
   ],
   "source": [
    "#next sat vapor for CMD case\n",
    "Sat_vap_CMD=interp(Sat_vap_T_42,Sat_vap_T_40,42,40,T_b_f_c)\n",
    "Sat_vap_CMD"
   ]
  },
  {
   "cell_type": "code",
   "execution_count": 23,
   "metadata": {},
   "outputs": [
    {
     "data": {
      "text/plain": [
       "373.6841781136671"
      ]
     },
     "execution_count": 23,
     "metadata": {},
     "output_type": "execute_result"
    }
   ],
   "source": [
    "#next sat liq for IMD case\n",
    "Sat_liq_IMD=interp(Sat_liq_T_42,Sat_liq_T_40,42,40,T_b_f_i)\n",
    "Sat_liq_IMD"
   ]
  },
  {
   "cell_type": "code",
   "execution_count": 24,
   "metadata": {},
   "outputs": [
    {
     "data": {
      "text/plain": [
       "1473.3901100057408"
      ]
     },
     "execution_count": 24,
     "metadata": {},
     "output_type": "execute_result"
    }
   ],
   "source": [
    "#next sat liq for IMD case\n",
    "Sat_vap_IMD=interp(Sat_vap_T_42,Sat_vap_T_40,42,40,T_b_f_i)\n",
    "Sat_vap_IMD"
   ]
  },
  {
   "cell_type": "markdown",
   "metadata": {},
   "source": [
    "Enthalpy of vaporization is the difference between the specific enthalpy of saturated vapor and specific enthalpy of saturated liquid"
   ]
  },
  {
   "cell_type": "code",
   "execution_count": 25,
   "metadata": {},
   "outputs": [
    {
     "data": {
      "text/plain": [
       "1094.1795100776762"
      ]
     },
     "execution_count": 25,
     "metadata": {},
     "output_type": "execute_result"
    }
   ],
   "source": [
    "#enthalpy of vaporizing ammonia for CMD in units of kJ/kg\n",
    "En_vap_a_CMD=Sat_vap_CMD-Sat_liq_CMD\n",
    "En_vap_a_CMD"
   ]
  },
  {
   "cell_type": "code",
   "execution_count": 26,
   "metadata": {},
   "outputs": [
    {
     "data": {
      "text/plain": [
       "1099.7059318920737"
      ]
     },
     "execution_count": 26,
     "metadata": {},
     "output_type": "execute_result"
    }
   ],
   "source": [
    "#enthalpy of vaporizing ammonia for CMD in units of K/kg\n",
    "En_vap_a_IMD=Sat_vap_IMD-Sat_liq_IMD\n",
    "En_vap_a_IMD"
   ]
  },
  {
   "cell_type": "markdown",
   "metadata": {},
   "source": [
    "Estimate the enthalpy of vaporization for water based on bulk temperatures- note that based on the negative flux of water, in other words the flux of water from collector to feed, during IMD the evaporative energy will be based on the collector side temperature, while for CMD when water vaporizes in the feed and transports to the collector, the enthalpy of vaporization is based on the feed side temperature.\n",
    "Data is avaialble for enthalpy of vaporization, so we can skip the step of specific enthalpy of saturated vapor-specific enthalpy of liquid and calculate enthalpy of vaporization directly"
   ]
  },
  {
   "cell_type": "code",
   "execution_count": 27,
   "metadata": {},
   "outputs": [
    {
     "data": {
      "text/plain": [
       "2402.31294131626"
      ]
     },
     "execution_count": 27,
     "metadata": {},
     "output_type": "execute_result"
    }
   ],
   "source": [
    "#plug in enthalpies of vaporization at 40 and 44 deg. C to calculate for the exact CMD and IMD bulk feed temperatures\n",
    "#units of kJ/kg\n",
    "En_vap_w_CMD=interp(2396.4,2406.0,44,40,T_b_f_c)\n",
    "En_vap_w_CMD"
   ]
  },
  {
   "cell_type": "code",
   "execution_count": 28,
   "metadata": {},
   "outputs": [
    {
     "data": {
      "text/plain": [
       "2404.726689304858"
      ]
     },
     "execution_count": 28,
     "metadata": {},
     "output_type": "execute_result"
    }
   ],
   "source": [
    "#because water vaporizes in the collector and transports from collector to feed, as indicated by experimental negative flux, we use bulk collector temperature\n",
    "En_vap_w_IMD=interp(2396.4,2406.0,44,40,T_b_c_i)\n",
    "En_vap_w_IMD"
   ]
  },
  {
   "cell_type": "code",
   "execution_count": 29,
   "metadata": {},
   "outputs": [
    {
     "data": {
      "text/plain": [
       "21500.700824780528"
      ]
     },
     "execution_count": 29,
     "metadata": {},
     "output_type": "execute_result"
    }
   ],
   "source": [
    "#calculate convective heat transfer- flux of component*enthalpy of vaporization of that component \n",
    "Q_w_CMD=En_vap_w_CMD*df4['Water Flux (kg/m2h)'][0]\n",
    "Q_w_CMD"
   ]
  },
  {
   "cell_type": "code",
   "execution_count": 30,
   "metadata": {},
   "outputs": [
    {
     "data": {
      "text/plain": [
       "-1928.5908048224962"
      ]
     },
     "execution_count": 30,
     "metadata": {},
     "output_type": "execute_result"
    }
   ],
   "source": [
    "Q_w_IMD=En_vap_w_IMD*df4['Water Flux (kg/m2h)'][1]\n",
    "Q_w_IMD"
   ]
  },
  {
   "cell_type": "code",
   "execution_count": 31,
   "metadata": {},
   "outputs": [
    {
     "data": {
      "text/plain": [
       "251.30020807953989"
      ]
     },
     "execution_count": 31,
     "metadata": {},
     "output_type": "execute_result"
    }
   ],
   "source": [
    "#same thing for ammonia, but we need to adjust units of flux for ammonia to kg\n",
    "Q_a_CMD=En_vap_a_CMD*df4['Ammonia Flux (mol/m2h)'][0]*17/1000\n",
    "Q_a_CMD"
   ]
  },
  {
   "cell_type": "code",
   "execution_count": 32,
   "metadata": {},
   "outputs": [
    {
     "data": {
      "text/plain": [
       "260.2344117229403"
      ]
     },
     "execution_count": 32,
     "metadata": {},
     "output_type": "execute_result"
    }
   ],
   "source": [
    "Q_a_IMD=En_vap_a_IMD*df4['Ammonia Flux (mol/m2h)'][1]*17/1000\n",
    "Q_a_IMD"
   ]
  },
  {
   "cell_type": "markdown",
   "metadata": {},
   "source": [
    "Instead of doing the above calculations, I could have been more efficient and done that calculations directly to the df and make plotting easier\n",
    "I will still keep the above calculations as a check on this next part.\n",
    "**Plot convective heat transfer for both operations- fig 4**"
   ]
  },
  {
   "cell_type": "code",
   "execution_count": 33,
   "metadata": {},
   "outputs": [
    {
     "data": {
      "text/plain": [
       "Text(0, 0.5, 'Convective heat transfer ($kJ/m^2h$)')"
      ]
     },
     "execution_count": 33,
     "metadata": {},
     "output_type": "execute_result"
    },
    {
     "data": {
      "image/png": "[encoded data removed]",
      "text/plain": [
       "<Figure size 432x288 with 1 Axes>"
      ]
     },
     "metadata": {
      "needs_background": "light"
     },
     "output_type": "display_data"
    }
   ],
   "source": [
    "df6=df4\n",
    "df6['Ammonia Flux (mol/m2h)'][0]=En_vap_a_CMD*df6['Ammonia Flux (mol/m2h)'][0]*17/1000\n",
    "df6['Ammonia Flux (mol/m2h)'][1]=En_vap_a_IMD*df6['Ammonia Flux (mol/m2h)'][1]*17/1000\n",
    "\n",
    "df6['Water Flux (kg/m2h)'][0]=En_vap_w_CMD*df6['Water Flux (kg/m2h)'][0]\n",
    "df6['Water Flux (kg/m2h)'][1]=En_vap_w_IMD*df6['Water Flux (kg/m2h)'][1]\n",
    "df6=df6.rename(columns={'Ammonia Flux (mol/m2h)':'Ammonia','Water Flux (kg/m2h)':'Water'})\n",
    "ax6=df6.plot(kind='bar')\n",
    "ax6.set_ylabel(r'Convective heat transfer ($kJ/m^2h$)')\n"
   ]
  },
  {
   "cell_type": "markdown",
   "metadata": {},
   "source": [
    "**Figure 4.** This plot demonstrates the convective heat transfer that results from the vaporization and condensation of each component, ammonia and water. For ammonia transport, ammonia in the aqueous liquid feed solution vaporizes and transports across the membrane to the collector where it condenses. The vaporization of water either occurs in the feed or collector depending on the operation. In CMD, water vaporizes in the feed and transports to the collector where it condenses. In IMD, due to convective heat transport from ammonia permeation there is slight temperature polarization (discussed later) that drives water in the opposite direction- thus water vaporizes in the collector and transports to the feed. For this reason, the convective heat transport from water permeation is represented as negative- that is heat is transported from collector to feed. It is evident from this plot that \n",
    "1. water flux is the major contributor of convective heat flux because water flux is higher and the enthalpy of vaporizing water is higher\n",
    "2. convective heat transfer is lower for IMD operation than CMD operation. This is because the magnitude of water flux is significantly lower for IMD than for CMD"
   ]
  },
  {
   "cell_type": "markdown",
   "metadata": {},
   "source": [
    "# Step 4- Determination of Interfacial Temperatures "
   ]
  },
  {
   "cell_type": "markdown",
   "metadata": {},
   "source": [
    "**Next step**- Calculation of interfacial temperatures, this requires the input other operational parameters and membrane characteristics in order to calculate the other type of heat transfer-conductive"
   ]
  },
  {
   "cell_type": "code",
   "execution_count": 34,
   "metadata": {},
   "outputs": [],
   "source": [
    "#membrane thermal conductivity, w/mK, k_s\n",
    "k_s=0.16\n",
    "#vapor thermal conductivity, w/mK, k_g\n",
    "k_g=0.027\n",
    "#porosity, e \n",
    "e=0.8\n",
    "#membrane thickness, m, d \n",
    "d=110/10**6\n",
    "#boundary layer coefficients- estimated from literature, W/m2K, h_h and h_c for the \"hot\" and \"cold\" \n",
    "h_h= 3546\n",
    "h_c= 934 "
   ]
  },
  {
   "cell_type": "code",
   "execution_count": 35,
   "metadata": {},
   "outputs": [
    {
     "data": {
      "text/plain": [
       "0.053599999999999995"
      ]
     },
     "execution_count": 35,
     "metadata": {},
     "output_type": "execute_result"
    }
   ],
   "source": [
    "#overall membrane thermal conductivity, w/mK is a function of the membrane and vapor thermal conductivities and porosity as so\n",
    "k_m=e*k_g+(1-e)*k_s\n",
    "k_m"
   ]
  },
  {
   "cell_type": "markdown",
   "metadata": {},
   "source": [
    "**Next** Calculate interfacial temperatures"
   ]
  },
  {
   "cell_type": "code",
   "execution_count": 36,
   "metadata": {},
   "outputs": [],
   "source": [
    "#Interfacial Temperature on Feed side Function, I am converting units back to deg. C\n",
    "def i_F(k_m,d,T_b_c,h_f,h_p,T_b_f,Q_L):\n",
    "    return (k_m/d*(T_b_c+h_f/h_p*T_b_f)+h_f*T_b_f-Q_L)/(k_m/d+h_f*(1+k_m/(d*h_p)))-273"
   ]
  },
  {
   "cell_type": "code",
   "execution_count": 37,
   "metadata": {},
   "outputs": [],
   "source": [
    "#Interfacial Temperature on Collector side Function \n",
    "def i_C(k_m,d,T_b_c,h_f,h_p,T_b_f,Q_L):\n",
    "    return (k_m/d*(T_b_f+h_p/h_f*T_b_c)+h_c*T_b_c-Q_L)/(k_m/d+h_p*(1+k_m/(d*h_f)))-273"
   ]
  },
  {
   "cell_type": "code",
   "execution_count": 38,
   "metadata": {},
   "outputs": [
    {
     "data": {
      "text/plain": [
       "39.6814894498786"
      ]
     },
     "execution_count": 38,
     "metadata": {},
     "output_type": "execute_result"
    }
   ],
   "source": [
    "#First for CMD, convert units to be consistent with kg, m, K, s \n",
    "#CMD- Interfacial Feed Temperature\n",
    "Q_L_CMD=(Q_w_CMD+Q_a_CMD)/3600\n",
    "T_b_c_c_conv=T_b_c_c+273\n",
    "T_b_f_c_conv=T_b_f_c+273\n",
    "k_m=k_m\n",
    "d=d\n",
    "T_m_F_CMD=i_F(k_m,d,T_b_c_c_conv,h_h,h_c,T_b_f_c_conv,Q_L_CMD)\n",
    "T_m_F_CMD"
   ]
  },
  {
   "cell_type": "code",
   "execution_count": 39,
   "metadata": {},
   "outputs": [
    {
     "data": {
      "text/plain": [
       "26.18837780493186"
      ]
     },
     "execution_count": 39,
     "metadata": {},
     "output_type": "execute_result"
    }
   ],
   "source": [
    "#Similarly for CMD- Interfacial Collector Temperature\n",
    "T_m_C_CMD=i_C(k_m,d,T_b_c_c_conv,h_h,h_c,T_b_f_c_conv,Q_L_CMD)\n",
    "T_m_C_CMD"
   ]
  },
  {
   "cell_type": "code",
   "execution_count": 40,
   "metadata": {},
   "outputs": [
    {
     "data": {
      "text/plain": [
       "40.37460764162131"
      ]
     },
     "execution_count": 40,
     "metadata": {},
     "output_type": "execute_result"
    }
   ],
   "source": [
    "#IMD-Interfacial Feed Temperature\n",
    "Q_L_IMD=(Q_w_IMD+Q_a_IMD)/3600\n",
    "T_b_c_i_conv=T_b_c_i+273\n",
    "T_b_f_i_conv=T_b_f_i+273\n",
    "T_m_F_IMD=i_F(k_m,d,T_b_c_i_conv,h_h,h_c,T_b_f_i_conv,Q_L_IMD)\n",
    "T_m_F_IMD"
   ]
  },
  {
   "cell_type": "code",
   "execution_count": 41,
   "metadata": {},
   "outputs": [
    {
     "data": {
      "text/plain": [
       "40.47735583666332"
      ]
     },
     "execution_count": 41,
     "metadata": {},
     "output_type": "execute_result"
    }
   ],
   "source": [
    "#IMD-Interfacial Collector Temperature\n",
    "T_m_C_IMD=i_C(k_m,d,T_b_c_i_conv,h_h,h_c,T_b_f_i_conv,Q_L_IMD)\n",
    "T_m_C_IMD"
   ]
  },
  {
   "cell_type": "markdown",
   "metadata": {},
   "source": [
    "**Plot bulk temperature and interfacial temperature for each operation- for fig 5**"
   ]
  },
  {
   "cell_type": "code",
   "execution_count": 42,
   "metadata": {},
   "outputs": [
    {
     "data": {
      "text/html": [
       "<div>\n",
       "<style scoped>\n",
       "    .dataframe tbody tr th:only-of-type {\n",
       "        vertical-align: middle;\n",
       "    }\n",
       "\n",
       "    .dataframe tbody tr th {\n",
       "        vertical-align: top;\n",
       "    }\n",
       "\n",
       "    .dataframe thead th {\n",
       "        text-align: right;\n",
       "    }\n",
       "</style>\n",
       "<table border=\"1\" class=\"dataframe\">\n",
       "  <thead>\n",
       "    <tr style=\"text-align: right;\">\n",
       "      <th></th>\n",
       "      <th>Bulk Feed</th>\n",
       "      <th>Interfacial Feed</th>\n",
       "      <th>Bulk Collector</th>\n",
       "      <th>Interfacial Collector</th>\n",
       "    </tr>\n",
       "  </thead>\n",
       "  <tbody>\n",
       "    <tr>\n",
       "      <th>CMD</th>\n",
       "      <td>41.536274</td>\n",
       "      <td>39.681489</td>\n",
       "      <td>19.154348</td>\n",
       "      <td>26.188378</td>\n",
       "    </tr>\n",
       "    <tr>\n",
       "      <th>IMD</th>\n",
       "      <td>40.360440</td>\n",
       "      <td>40.374608</td>\n",
       "      <td>40.530546</td>\n",
       "      <td>40.477356</td>\n",
       "    </tr>\n",
       "  </tbody>\n",
       "</table>\n",
       "</div>"
      ],
      "text/plain": [
       "     Bulk Feed  Interfacial Feed  Bulk Collector  Interfacial Collector\n",
       "CMD  41.536274         39.681489       19.154348              26.188378\n",
       "IMD  40.360440         40.374608       40.530546              40.477356"
      ]
     },
     "execution_count": 42,
     "metadata": {},
     "output_type": "execute_result"
    }
   ],
   "source": [
    "l = ['CMD', 'IMD']\n",
    "data = {'Bulk Feed': [T_b_f_c,T_b_f_i], \n",
    "       'Interfacial Feed': [T_m_F_CMD,T_m_F_IMD], 'Bulk Collector': [T_b_c_c,T_b_c_i],\n",
    "       'Interfacial Collector': [T_m_C_CMD,T_m_C_IMD]}\n",
    "\n",
    "df8 = pd.DataFrame(data, index=l)\n",
    "df8\n"
   ]
  },
  {
   "cell_type": "code",
   "execution_count": 43,
   "metadata": {},
   "outputs": [
    {
     "data": {
      "text/plain": [
       "(0, 65)"
      ]
     },
     "execution_count": 43,
     "metadata": {},
     "output_type": "execute_result"
    },
    {
     "data": {
      "image/png": "[encoded data removed]",
      "text/plain": [
       "<Figure size 432x288 with 1 Axes>"
      ]
     },
     "metadata": {
      "needs_background": "light"
     },
     "output_type": "display_data"
    }
   ],
   "source": [
    "ax8=df8.plot(kind='bar')\n",
    "ax8.set_ylabel(r'Temperature ($^oC$)')\n",
    "ax8.legend()\n",
    "ax8.set_ylim((0,65))"
   ]
  },
  {
   "cell_type": "markdown",
   "metadata": {},
   "source": [
    "**Figure 5.** This plot shows the bulk and interfacial feed and collector temperatures for both operations, CMD and IMD. From this plot it can be seen that in IMD operation temperature polarization is quite minimal. That is the bulk and interfacial temperatures are close. \n",
    "In contrast, for CMD the bulk and interfacial temperatures are different, particuarly for the collector temperatures. \n",
    "In CMD, the conductive and convective heat transfers due to the imposed temperature differential result in a decrease in feed temperature at the interface and an increase in collector temperature at the interface. "
   ]
  },
  {
   "cell_type": "markdown",
   "metadata": {},
   "source": [
    "# Step 5- Determinaiton of Conductive Heat Transfer"
   ]
  },
  {
   "cell_type": "markdown",
   "metadata": {},
   "source": [
    "**Next Step** For each operation calculate conductive heat transfer, which is a function of the transmembrane temperature gradient, in other words the difference in interfacial temperatures"
   ]
  },
  {
   "cell_type": "code",
   "execution_count": 44,
   "metadata": {},
   "outputs": [
    {
     "data": {
      "text/plain": [
       "6574.825310628591"
      ]
     },
     "execution_count": 44,
     "metadata": {},
     "output_type": "execute_result"
    }
   ],
   "source": [
    "def Q_c(k_m,d,T_1,T_0):\n",
    "    return k_m/d*(T_1-T_0)\n",
    "#First for CMD, kJ/m2h\n",
    "Q_c_CMD=Q_c(k_m,d,T_m_F_CMD+273,T_m_C_CMD+273)\n",
    "Q_c_CMD"
   ]
  },
  {
   "cell_type": "code",
   "execution_count": 45,
   "metadata": {},
   "outputs": [
    {
     "data": {
      "text/plain": [
       "-50.06639322047083"
      ]
     },
     "execution_count": 45,
     "metadata": {},
     "output_type": "execute_result"
    }
   ],
   "source": [
    "#IMD Conductive heat transfer, kJ/m2h\n",
    "Q_c_IMD=Q_c(k_m,d,T_m_F_IMD+273,T_m_C_IMD+273)\n",
    "Q_c_IMD"
   ]
  },
  {
   "cell_type": "markdown",
   "metadata": {},
   "source": [
    "**Plot conductive heat transfer for both operations- for fig 6**"
   ]
  },
  {
   "cell_type": "code",
   "execution_count": 46,
   "metadata": {},
   "outputs": [
    {
     "data": {
      "text/html": [
       "<div>\n",
       "<style scoped>\n",
       "    .dataframe tbody tr th:only-of-type {\n",
       "        vertical-align: middle;\n",
       "    }\n",
       "\n",
       "    .dataframe tbody tr th {\n",
       "        vertical-align: top;\n",
       "    }\n",
       "\n",
       "    .dataframe thead th {\n",
       "        text-align: right;\n",
       "    }\n",
       "</style>\n",
       "<table border=\"1\" class=\"dataframe\">\n",
       "  <thead>\n",
       "    <tr style=\"text-align: right;\">\n",
       "      <th></th>\n",
       "      <th>Convective Heat Transfer ($kJ/m^2h$)</th>\n",
       "    </tr>\n",
       "  </thead>\n",
       "  <tbody>\n",
       "    <tr>\n",
       "      <th>CMD</th>\n",
       "      <td>6574.825311</td>\n",
       "    </tr>\n",
       "    <tr>\n",
       "      <th>IMD</th>\n",
       "      <td>-50.066393</td>\n",
       "    </tr>\n",
       "  </tbody>\n",
       "</table>\n",
       "</div>"
      ],
      "text/plain": [
       "     Convective Heat Transfer ($kJ/m^2h$)\n",
       "CMD                           6574.825311\n",
       "IMD                            -50.066393"
      ]
     },
     "execution_count": 46,
     "metadata": {},
     "output_type": "execute_result"
    }
   ],
   "source": [
    "l2 = ['CMD', 'IMD']\n",
    "data = {r'Convective Heat Transfer ($kJ/m^2h$)': [Q_c_CMD,Q_c_IMD]}\n",
    "\n",
    "df9 = pd.DataFrame(data, index=l2)\n",
    "df9"
   ]
  },
  {
   "cell_type": "code",
   "execution_count": 47,
   "metadata": {},
   "outputs": [
    {
     "data": {
      "text/plain": [
       "(-100, 7000)"
      ]
     },
     "execution_count": 47,
     "metadata": {},
     "output_type": "execute_result"
    },
    {
     "data": {
      "image/png": "[encoded data removed]",
      "text/plain": [
       "<Figure size 432x288 with 1 Axes>"
      ]
     },
     "metadata": {
      "needs_background": "light"
     },
     "output_type": "display_data"
    }
   ],
   "source": [
    "ax9=df9.plot(kind='bar',legend=False)\n",
    "ax9.set_ylabel(r'Convective Heat Transfer ($kJ/m^2h$)')\n",
    "ax9.set_ylim((-100,7000))"
   ]
  },
  {
   "cell_type": "markdown",
   "metadata": {},
   "source": [
    "**Figure 6.** This plot shows the conductive heat transfer in CMD and IMD operation. Note that conductive heat transport in IMD is represented as negative which indicates heat transfer from collector to feed (the convention is the positive direction as feed to collector). From this plot it is very evident that conductive heat transfer is more significant in CMD than in IMD. In CMD, the imposed temperature differential between feed and collector results in a signficant driving force for conductive heat transfer. In IMD, the aim is to have equal bulk feed and bulk collector temperatures, however experimentally there were slight differences. Despite the very similar bulk temperatures, the phase change energy demands to support ammonia vapor permeation result in very slight temperature polarization in IMD as depicted in Figure. 5. The result of this temperature polarization is slightly different interfacial temperatures, which results in a slight driving force for conductive heat transfer. However, as seen in the figure, the driving force for conductive heat transfer is significantly less in IMD than in CMD. "
   ]
  },
  {
   "cell_type": "markdown",
   "metadata": {},
   "source": [
    "# Step 6- calculate apparent driving force for water and ammonia permeation for each operation"
   ]
  },
  {
   "cell_type": "markdown",
   "metadata": {},
   "source": [
    "The driving force for vapor permeation is the difference in vapor pressure across the membrane. As discussed previously, vapor pressure of a component is dependent on both the concentration of the component and temperature of the solution. To be most accurate, the interfacial temperatures should be utilized in the estimations. The following uses equations (from empirical data on NIST) to calculate vapor pressures of ammonia as a function of the interfacial temperatures and concentrations. Note that for the purpose of this analysis constant feed ammonia concentration in the feed and negligible ammonia concentration in the collector was assumed. "
   ]
  },
  {
   "cell_type": "markdown",
   "metadata": {},
   "source": [
    "The following expression was developed by the NIST website based on empirical data. What is important here in the context of this analysis is that we plug in the temperature of the feed at the surface of the membrane. "
   ]
  },
  {
   "cell_type": "code",
   "execution_count": 48,
   "metadata": {},
   "outputs": [
    {
     "data": {
      "text/plain": [
       "730.3600482265857"
      ]
     },
     "execution_count": 48,
     "metadata": {},
     "output_type": "execute_result"
    }
   ],
   "source": [
    "VP_A_F_CMD=100000/(59*np.exp(4100*((1/(T_m_F_CMD+273.15)-1/298.15)))*1/.226)\n",
    "VP_A_F_CMD\n"
   ]
  },
  {
   "cell_type": "code",
   "execution_count": 49,
   "metadata": {},
   "outputs": [
    {
     "data": {
      "text/plain": [
       "751.8310788539345"
      ]
     },
     "execution_count": 49,
     "metadata": {},
     "output_type": "execute_result"
    }
   ],
   "source": [
    "VP_A_F_IMD=100000/(59*np.exp(4100*((1/(T_m_F_IMD+273.15)-1/298.15)))*1/.226)\n",
    "VP_A_F_IMD"
   ]
  },
  {
   "cell_type": "markdown",
   "metadata": {},
   "source": [
    "Now let's compare the actual vapor pressure gradient (which driving ammonia transport) to the vapor pressure gradient without temperature polarization (i.e., same equation, but using the bulk feed temperature). "
   ]
  },
  {
   "cell_type": "code",
   "execution_count": 50,
   "metadata": {},
   "outputs": [
    {
     "data": {
      "text/plain": [
       "789.0155046396247"
      ]
     },
     "execution_count": 50,
     "metadata": {},
     "output_type": "execute_result"
    }
   ],
   "source": [
    "VP_A_F_CMD_no_TP=100000/(59*np.exp(4100*((1/(T_b_f_c+273.15)-1/298.15)))*1/.226)\n",
    "VP_A_F_CMD_no_TP"
   ]
  },
  {
   "cell_type": "code",
   "execution_count": 51,
   "metadata": {},
   "outputs": [
    {
     "data": {
      "text/plain": [
       "751.3869090500151"
      ]
     },
     "execution_count": 51,
     "metadata": {},
     "output_type": "execute_result"
    }
   ],
   "source": [
    "VP_A_F_IMD_no_TP=100000/(59*np.exp(4100*((1/(T_b_f_i+273.15)-1/298.15)))*1/.226)\n",
    "VP_A_F_IMD_no_TP"
   ]
  },
  {
   "cell_type": "markdown",
   "metadata": {},
   "source": [
    "**Next step plot the apparent driving force for water and ammonia for each operation- fig 7**"
   ]
  },
  {
   "cell_type": "code",
   "execution_count": 52,
   "metadata": {},
   "outputs": [
    {
     "data": {
      "text/html": [
       "<div>\n",
       "<style scoped>\n",
       "    .dataframe tbody tr th:only-of-type {\n",
       "        vertical-align: middle;\n",
       "    }\n",
       "\n",
       "    .dataframe tbody tr th {\n",
       "        vertical-align: top;\n",
       "    }\n",
       "\n",
       "    .dataframe thead th {\n",
       "        text-align: right;\n",
       "    }\n",
       "</style>\n",
       "<table border=\"1\" class=\"dataframe\">\n",
       "  <thead>\n",
       "    <tr style=\"text-align: right;\">\n",
       "      <th></th>\n",
       "      <th>Without T-Polarization</th>\n",
       "      <th>Considering T-Polarization</th>\n",
       "    </tr>\n",
       "  </thead>\n",
       "  <tbody>\n",
       "    <tr>\n",
       "      <th>CMD</th>\n",
       "      <td>789.015505</td>\n",
       "      <td>730.360048</td>\n",
       "    </tr>\n",
       "    <tr>\n",
       "      <th>IMD</th>\n",
       "      <td>751.386909</td>\n",
       "      <td>751.831079</td>\n",
       "    </tr>\n",
       "  </tbody>\n",
       "</table>\n",
       "</div>"
      ],
      "text/plain": [
       "     Without T-Polarization  Considering T-Polarization\n",
       "CMD              789.015505                  730.360048\n",
       "IMD              751.386909                  751.831079"
      ]
     },
     "execution_count": 52,
     "metadata": {},
     "output_type": "execute_result"
    }
   ],
   "source": [
    "l3 = ['CMD', 'IMD']\n",
    "data = {'Without T-Polarization': [VP_A_F_CMD_no_TP,VP_A_F_IMD_no_TP], \n",
    "       'Considering T-Polarization': [VP_A_F_CMD,VP_A_F_IMD]}\n",
    "\n",
    "df10 = pd.DataFrame(data, index=l3)\n",
    "df10"
   ]
  },
  {
   "cell_type": "code",
   "execution_count": 53,
   "metadata": {},
   "outputs": [
    {
     "data": {
      "text/plain": [
       "(0, 1000)"
      ]
     },
     "execution_count": 53,
     "metadata": {},
     "output_type": "execute_result"
    },
    {
     "data": {
      "image/png": "[encoded data removed]",
      "text/plain": [
       "<Figure size 432x288 with 1 Axes>"
      ]
     },
     "metadata": {
      "needs_background": "light"
     },
     "output_type": "display_data"
    }
   ],
   "source": [
    "ax10=df10.plot(kind='bar')\n",
    "ax10.set_ylabel('Vapor Pressure Garident (Pa)')\n",
    "ax10.legend()\n",
    "ax10.set_ylim((0,1000))"
   ]
  },
  {
   "cell_type": "markdown",
   "metadata": {},
   "source": [
    "**Figure 7** Ammonia vapor pressure gradient, which is the driving force for ammonia permeation, for CMD and IMD estimated from temperatures without T-polarization and the more accurate estimation of with considering T-polarization. From this plot it can be seen that the driving force for ammonia permeation (the vapor pressure gradient) decreases signficiantly for CMD when we consider the effects of T-polarization, while for IMD the difference is quite minimal (actually a slight positive change). This is because the degree of temperature polarization is more signficiant for CMD than for IMD due to the higher convective and conductive heat transfer in CMD. \n",
    "Note that ideally the control driving force (without t-polarization) would be equal for CMD and IMD (that is if both experimental conditions were of exactly 40 deg. C bulk temperature). However, due to imperfections in experimental conditions, the bulk temperatures are slightly different. Thus, the comparison is not as exact. \n"
   ]
  },
  {
   "cell_type": "markdown",
   "metadata": {},
   "source": [
    "# End Result #\n",
    "The conclusion of this analysis is that IMD improves the performance for ammonia recovery compared to CMD by decreasing convective and conductive heat transfer, which results in more mininmal temperature polarizaiton, which results in an improved driving force for ammonia permeation. "
   ]
  },
  {
   "cell_type": "markdown",
   "metadata": {},
   "source": [
    "To view this as a binder click here\n",
    "[![Binder](https://mybinder.org/badge.svg)](http://mybinder.org/v2/gh/sm4386/Project/master)"
   ]
  },
  {
   "cell_type": "code",
   "execution_count": null,
   "metadata": {},
   "outputs": [],
   "source": []
  }
 ],
 "metadata": {
  "kernelspec": {
   "display_name": "Python 3",
   "language": "python",
   "name": "python3"
  },
  "language_info": {
   "codemirror_mode": {
    "name": "ipython",
    "version": 3
   },
   "file_extension": ".py",
   "mimetype": "text/x-python",
   "name": "python",
   "nbconvert_exporter": "python",
   "pygments_lexer": "ipython3",
   "version": "3.7.3"
  }
 },
 "nbformat": 4,
 "nbformat_minor": 4
}
